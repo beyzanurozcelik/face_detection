{
 "cells": [
  {
   "cell_type": "code",
   "execution_count": 1,
   "metadata": {
    "executionInfo": {
     "elapsed": 6147,
     "status": "ok",
     "timestamp": 1709213563051,
     "user": {
      "displayName": "Aoi Haru",
      "userId": "03918312885848797286"
     },
     "user_tz": -180
    },
    "id": "bvo9s0E8AB_i"
   },
   "outputs": [],
   "source": [
    "import tensorflow as tf\n",
    "import json\n",
    "import numpy as np"
   ]
  },
  {
   "cell_type": "code",
   "execution_count": 2,
   "metadata": {},
   "outputs": [],
   "source": [
    "# Avoid OOM errors by setting GPU Memory Consumption Growth\n",
    "gpus = tf.config.experimental.list_physical_devices('GPU')\n",
    "for gpu in gpus:\n",
    "    tf.config.experimental.set_memory_growth(gpu, True)"
   ]
  },
  {
   "cell_type": "code",
   "execution_count": 3,
   "metadata": {},
   "outputs": [
    {
     "data": {
      "text/plain": [
       "[PhysicalDevice(name='/physical_device:GPU:0', device_type='GPU')]"
      ]
     },
     "execution_count": 3,
     "metadata": {},
     "output_type": "execute_result"
    }
   ],
   "source": [
    "tf.config.list_physical_devices('GPU')"
   ]
  },
  {
   "cell_type": "code",
   "execution_count": 4,
   "metadata": {
    "executionInfo": {
     "elapsed": 6,
     "status": "ok",
     "timestamp": 1709213563051,
     "user": {
      "displayName": "Aoi Haru",
      "userId": "03918312885848797286"
     },
     "user_tz": -180
    },
    "id": "ujTtoN4FA7gi"
   },
   "outputs": [],
   "source": [
    "def load_image(x):\n",
    "    byte_img = tf.io.read_file(x)\n",
    "    img = tf.io.decode_jpeg(byte_img)\n",
    "    return img"
   ]
  },
  {
   "cell_type": "code",
   "execution_count": 5,
   "metadata": {
    "executionInfo": {
     "elapsed": 34226,
     "status": "ok",
     "timestamp": 1709213597828,
     "user": {
      "displayName": "Aoi Haru",
      "userId": "03918312885848797286"
     },
     "user_tz": -180
    },
    "id": "9m-Ax2Ur_pk1"
   },
   "outputs": [],
   "source": [
    "train_images = tf.data.Dataset.list_files('aug_data\\\\train\\\\images\\\\*.jpg', shuffle=False)\n",
    "train_images = train_images.map(load_image)\n",
    "train_images = train_images.map(lambda x: tf.image.resize(x, (120,120)))\n",
    "train_images = train_images.map(lambda x: x/255)\n",
    "\n",
    "test_images = tf.data.Dataset.list_files('aug_data\\\\test\\\\images\\\\*.jpg', shuffle=False)\n",
    "test_images = test_images.map(load_image)\n",
    "test_images = test_images.map(lambda x: tf.image.resize(x, (120,120)))\n",
    "test_images = test_images.map(lambda x: x/255)\n",
    "\n",
    "val_images = tf.data.Dataset.list_files('aug_data\\\\val\\\\images\\\\*.jpg', shuffle=False)\n",
    "val_images = val_images.map(load_image)\n",
    "val_images = val_images.map(lambda x: tf.image.resize(x, (120,120)))\n",
    "val_images = val_images.map(lambda x: x/255)"
   ]
  },
  {
   "cell_type": "code",
   "execution_count": 6,
   "metadata": {
    "colab": {
     "base_uri": "https://localhost:8080/"
    },
    "executionInfo": {
     "elapsed": 1344,
     "status": "ok",
     "timestamp": 1709213599167,
     "user": {
      "displayName": "Aoi Haru",
      "userId": "03918312885848797286"
     },
     "user_tz": -180
    },
    "id": "TJ8TPS5PA6VF",
    "outputId": "16d43e54-18d2-4d59-e034-712364f2017d"
   },
   "outputs": [
    {
     "data": {
      "text/plain": [
       "array([[[0.35128677, 0.19742647, 0.2694853 ],\n",
       "        [0.39136028, 0.21397059, 0.30447304],\n",
       "        [0.38860294, 0.21109068, 0.2726103 ],\n",
       "        ...,\n",
       "        [0.7821691 , 0.66629905, 0.8584559 ],\n",
       "        [0.7844363 , 0.66335785, 0.84681374],\n",
       "        [0.794424  , 0.66795343, 0.8625613 ]],\n",
       "\n",
       "       [[0.4028799 , 0.24993873, 0.32181373],\n",
       "        [0.44105393, 0.28909314, 0.36997548],\n",
       "        [0.39123774, 0.25704658, 0.32414216],\n",
       "        ...,\n",
       "        [0.7716299 , 0.6706495 , 0.8598652 ],\n",
       "        [0.78272057, 0.67340684, 0.86311275],\n",
       "        [0.7893995 , 0.6764706 , 0.8526348 ]],\n",
       "\n",
       "       [[0.5158088 , 0.3658701 , 0.41752452],\n",
       "        [0.5088235 , 0.36862746, 0.41764706],\n",
       "        [0.5530025 , 0.42751226, 0.4786152 ],\n",
       "        ...,\n",
       "        [0.79105395, 0.69693625, 0.88615197],\n",
       "        [0.7882966 , 0.6858456 , 0.87555146],\n",
       "        [0.7703431 , 0.66838235, 0.85631126]],\n",
       "\n",
       "       ...,\n",
       "\n",
       "       [[0.4126838 , 0.31740198, 0.43474266],\n",
       "        [0.37904412, 0.28884804, 0.39178923],\n",
       "        [0.35931373, 0.27303922, 0.3572304 ],\n",
       "        ...,\n",
       "        [0.2716299 , 0.20870098, 0.3223652 ],\n",
       "        [0.20159313, 0.10833333, 0.23939951],\n",
       "        [0.19019608, 0.09803922, 0.24031863]],\n",
       "\n",
       "       [[0.38645834, 0.2923407 , 0.41783088],\n",
       "        [0.41427696, 0.32536766, 0.43474266],\n",
       "        [0.39074755, 0.30447304, 0.39466912],\n",
       "        ...,\n",
       "        [0.24460784, 0.1740196 , 0.26813725],\n",
       "        [0.21715686, 0.12781863, 0.22935049],\n",
       "        [0.19356617, 0.11035539, 0.21409313]],\n",
       "\n",
       "       [[0.35661766, 0.27346814, 0.36838236],\n",
       "        [0.43045342, 0.34742647, 0.4317402 ],\n",
       "        [0.45300245, 0.36427698, 0.4441789 ],\n",
       "        ...,\n",
       "        [0.18627451, 0.12696078, 0.19577205],\n",
       "        [0.18474264, 0.12113971, 0.17653187],\n",
       "        [0.18443628, 0.11715686, 0.17408088]]], dtype=float32)"
      ]
     },
     "execution_count": 6,
     "metadata": {},
     "output_type": "execute_result"
    }
   ],
   "source": [
    "train_images.as_numpy_iterator().next()"
   ]
  },
  {
   "cell_type": "code",
   "execution_count": 7,
   "metadata": {
    "executionInfo": {
     "elapsed": 3,
     "status": "ok",
     "timestamp": 1709213599168,
     "user": {
      "displayName": "Aoi Haru",
      "userId": "03918312885848797286"
     },
     "user_tz": -180
    },
    "id": "nPdf-gXNAIMv"
   },
   "outputs": [],
   "source": [
    "def load_labels(label_path):\n",
    "    with open(label_path.numpy(), 'r', encoding = \"utf-8\") as f:\n",
    "        label = json.load(f)\n",
    "\n",
    "    return [label['class']], label['bbox']"
   ]
  },
  {
   "cell_type": "code",
   "execution_count": 8,
   "metadata": {
    "executionInfo": {
     "elapsed": 1754,
     "status": "ok",
     "timestamp": 1709213600920,
     "user": {
      "displayName": "Aoi Haru",
      "userId": "03918312885848797286"
     },
     "user_tz": -180
    },
    "id": "Q7iZ8ZV-AOeY"
   },
   "outputs": [],
   "source": [
    "train_labels = tf.data.Dataset.list_files('aug_data\\\\train\\\\labels\\\\*.json', shuffle=False)\n",
    "train_labels = train_labels.map(lambda x: tf.py_function(load_labels, [x], [tf.uint8, tf.float16]))\n",
    "\n",
    "test_labels = tf.data.Dataset.list_files('aug_data\\\\test\\\\labels\\\\*.json', shuffle=False)\n",
    "test_labels = test_labels.map(lambda x: tf.py_function(load_labels, [x], [tf.uint8, tf.float16]))\n",
    "\n",
    "val_labels = tf.data.Dataset.list_files('aug_data\\\\val\\\\labels\\\\*.json', shuffle=False)\n",
    "val_labels = val_labels.map(lambda x: tf.py_function(load_labels, [x], [tf.uint8, tf.float16]))"
   ]
  },
  {
   "cell_type": "code",
   "execution_count": 9,
   "metadata": {
    "colab": {
     "base_uri": "https://localhost:8080/"
    },
    "executionInfo": {
     "elapsed": 2169,
     "status": "ok",
     "timestamp": 1709213603084,
     "user": {
      "displayName": "Aoi Haru",
      "userId": "03918312885848797286"
     },
     "user_tz": -180
    },
    "id": "3YiAgm6JCCbH",
    "outputId": "36d0cbab-d9c9-4de7-f180-ff8aa0ba1677"
   },
   "outputs": [
    {
     "data": {
      "text/plain": [
       "(array([1], dtype=uint8),\n",
       " array([0.2246, 0.2424, 0.605 , 0.6855], dtype=float16))"
      ]
     },
     "execution_count": 9,
     "metadata": {},
     "output_type": "execute_result"
    }
   ],
   "source": [
    "train_labels.as_numpy_iterator().next()"
   ]
  },
  {
   "cell_type": "code",
   "execution_count": 10,
   "metadata": {
    "executionInfo": {
     "elapsed": 6,
     "status": "ok",
     "timestamp": 1709213603084,
     "user": {
      "displayName": "Aoi Haru",
      "userId": "03918312885848797286"
     },
     "user_tz": -180
    },
    "id": "gKqx1GLyCJQ5"
   },
   "outputs": [],
   "source": [
    "train = tf.data.Dataset.zip((train_images, train_labels))\n",
    "train = train.shuffle(1200)\n",
    "train = train.batch(64)\n",
    "train = train.prefetch(4)\n",
    "\n",
    "test = tf.data.Dataset.zip((test_images, test_labels))\n",
    "test = test.shuffle(3400)\n",
    "test = test.batch(64)\n",
    "test = test.prefetch(4)\n",
    "\n",
    "val = tf.data.Dataset.zip((val_images, val_labels))\n",
    "val = val.shuffle(7000)\n",
    "val = val.batch(64)\n",
    "val = val.prefetch(4)"
   ]
  },
  {
   "cell_type": "code",
   "execution_count": 11,
   "metadata": {
    "executionInfo": {
     "elapsed": 6,
     "status": "ok",
     "timestamp": 1709213603084,
     "user": {
      "displayName": "Aoi Haru",
      "userId": "03918312885848797286"
     },
     "user_tz": -180
    },
    "id": "tQvkRfjlDIT1"
   },
   "outputs": [],
   "source": [
    "from tensorflow.keras.models import Model\n",
    "from tensorflow.keras.layers import Input, Conv2D, Dense, GlobalMaxPooling2D\n",
    "from tensorflow.keras.applications import VGG16"
   ]
  },
  {
   "cell_type": "code",
   "execution_count": 12,
   "metadata": {
    "colab": {
     "base_uri": "https://localhost:8080/"
    },
    "executionInfo": {
     "elapsed": 3752,
     "status": "ok",
     "timestamp": 1709213606831,
     "user": {
      "displayName": "Aoi Haru",
      "userId": "03918312885848797286"
     },
     "user_tz": -180
    },
    "id": "3ER35JTbHSLZ",
    "outputId": "13ae0d7b-4678-4208-9136-bdcdcef4e314"
   },
   "outputs": [],
   "source": [
    "vgg = VGG16(include_top=False) #for image classicification"
   ]
  },
  {
   "cell_type": "code",
   "execution_count": 13,
   "metadata": {
    "colab": {
     "base_uri": "https://localhost:8080/"
    },
    "executionInfo": {
     "elapsed": 34,
     "status": "ok",
     "timestamp": 1709213606831,
     "user": {
      "displayName": "Aoi Haru",
      "userId": "03918312885848797286"
     },
     "user_tz": -180
    },
    "id": "1AohhFA7HZCU",
    "outputId": "b376b979-dd25-4784-b539-e53ed9a80a30"
   },
   "outputs": [
    {
     "name": "stdout",
     "output_type": "stream",
     "text": [
      "Model: \"vgg16\"\n",
      "_________________________________________________________________\n",
      " Layer (type)                Output Shape              Param #   \n",
      "=================================================================\n",
      " input_1 (InputLayer)        [(None, None, None, 3)]   0         \n",
      "                                                                 \n",
      " block1_conv1 (Conv2D)       (None, None, None, 64)    1792      \n",
      "                                                                 \n",
      " block1_conv2 (Conv2D)       (None, None, None, 64)    36928     \n",
      "                                                                 \n",
      " block1_pool (MaxPooling2D)  (None, None, None, 64)    0         \n",
      "                                                                 \n",
      " block2_conv1 (Conv2D)       (None, None, None, 128)   73856     \n",
      "                                                                 \n",
      " block2_conv2 (Conv2D)       (None, None, None, 128)   147584    \n",
      "                                                                 \n",
      " block2_pool (MaxPooling2D)  (None, None, None, 128)   0         \n",
      "                                                                 \n",
      " block3_conv1 (Conv2D)       (None, None, None, 256)   295168    \n",
      "                                                                 \n",
      " block3_conv2 (Conv2D)       (None, None, None, 256)   590080    \n",
      "                                                                 \n",
      " block3_conv3 (Conv2D)       (None, None, None, 256)   590080    \n",
      "                                                                 \n",
      " block3_pool (MaxPooling2D)  (None, None, None, 256)   0         \n",
      "                                                                 \n",
      " block4_conv1 (Conv2D)       (None, None, None, 512)   1180160   \n",
      "                                                                 \n",
      " block4_conv2 (Conv2D)       (None, None, None, 512)   2359808   \n",
      "                                                                 \n",
      " block4_conv3 (Conv2D)       (None, None, None, 512)   2359808   \n",
      "                                                                 \n",
      " block4_pool (MaxPooling2D)  (None, None, None, 512)   0         \n",
      "                                                                 \n",
      " block5_conv1 (Conv2D)       (None, None, None, 512)   2359808   \n",
      "                                                                 \n",
      " block5_conv2 (Conv2D)       (None, None, None, 512)   2359808   \n",
      "                                                                 \n",
      " block5_conv3 (Conv2D)       (None, None, None, 512)   2359808   \n",
      "                                                                 \n",
      " block5_pool (MaxPooling2D)  (None, None, None, 512)   0         \n",
      "                                                                 \n",
      "=================================================================\n",
      "Total params: 14,714,688\n",
      "Trainable params: 14,714,688\n",
      "Non-trainable params: 0\n",
      "_________________________________________________________________\n"
     ]
    }
   ],
   "source": [
    "vgg.summary()"
   ]
  },
  {
   "cell_type": "code",
   "execution_count": 14,
   "metadata": {
    "executionInfo": {
     "elapsed": 20,
     "status": "ok",
     "timestamp": 1709213606831,
     "user": {
      "displayName": "Aoi Haru",
      "userId": "03918312885848797286"
     },
     "user_tz": -180
    },
    "id": "83djWHBuJM_x"
   },
   "outputs": [],
   "source": [
    "def build_model():\n",
    "  input_layer = Input(shape=(120,120,3))\n",
    "\n",
    "  vgg = VGG16(include_top=False)(input_layer)\n",
    "\n",
    "  #classification\n",
    "  pc1 = GlobalMaxPooling2D()(vgg)\n",
    "  dc1 = Dense(2048,activation='relu')(pc1)\n",
    "  dc2 = Dense(1,activation='sigmoid')(dc1)\n",
    "\n",
    "  #regression for bounding box\n",
    "  pr1 = GlobalMaxPooling2D()(vgg)\n",
    "  dr1 = Dense(2048,activation='relu')(pr1)\n",
    "  dr2 = Dense(4,activation='sigmoid')(dr1)\n",
    "\n",
    "  face_tracker = Model(inputs=input_layer, outputs = [dc2,dr2])\n",
    "\n",
    "  return face_tracker"
   ]
  },
  {
   "cell_type": "code",
   "execution_count": 15,
   "metadata": {
    "executionInfo": {
     "elapsed": 653,
     "status": "ok",
     "timestamp": 1709213607465,
     "user": {
      "displayName": "Aoi Haru",
      "userId": "03918312885848797286"
     },
     "user_tz": -180
    },
    "id": "Nzouyt0VOrsl"
   },
   "outputs": [],
   "source": [
    "face_tracker = build_model()"
   ]
  },
  {
   "cell_type": "code",
   "execution_count": 16,
   "metadata": {
    "colab": {
     "base_uri": "https://localhost:8080/"
    },
    "executionInfo": {
     "elapsed": 14,
     "status": "ok",
     "timestamp": 1709213607466,
     "user": {
      "displayName": "Aoi Haru",
      "userId": "03918312885848797286"
     },
     "user_tz": -180
    },
    "id": "Fv7SrZI7OvYt",
    "outputId": "3753bfa9-60ab-4f0f-fa76-8080f1eff827"
   },
   "outputs": [
    {
     "name": "stdout",
     "output_type": "stream",
     "text": [
      "Model: \"model\"\n",
      "__________________________________________________________________________________________________\n",
      " Layer (type)                   Output Shape         Param #     Connected to                     \n",
      "==================================================================================================\n",
      " input_2 (InputLayer)           [(None, 120, 120, 3  0           []                               \n",
      "                                )]                                                                \n",
      "                                                                                                  \n",
      " vgg16 (Functional)             (None, None, None,   14714688    ['input_2[0][0]']                \n",
      "                                512)                                                              \n",
      "                                                                                                  \n",
      " global_max_pooling2d (GlobalMa  (None, 512)         0           ['vgg16[0][0]']                  \n",
      " xPooling2D)                                                                                      \n",
      "                                                                                                  \n",
      " global_max_pooling2d_1 (Global  (None, 512)         0           ['vgg16[0][0]']                  \n",
      " MaxPooling2D)                                                                                    \n",
      "                                                                                                  \n",
      " dense (Dense)                  (None, 2048)         1050624     ['global_max_pooling2d[0][0]']   \n",
      "                                                                                                  \n",
      " dense_2 (Dense)                (None, 2048)         1050624     ['global_max_pooling2d_1[0][0]'] \n",
      "                                                                                                  \n",
      " dense_1 (Dense)                (None, 1)            2049        ['dense[0][0]']                  \n",
      "                                                                                                  \n",
      " dense_3 (Dense)                (None, 4)            8196        ['dense_2[0][0]']                \n",
      "                                                                                                  \n",
      "==================================================================================================\n",
      "Total params: 16,826,181\n",
      "Trainable params: 16,826,181\n",
      "Non-trainable params: 0\n",
      "__________________________________________________________________________________________________\n"
     ]
    }
   ],
   "source": [
    "face_tracker.summary()"
   ]
  },
  {
   "cell_type": "code",
   "execution_count": 17,
   "metadata": {
    "executionInfo": {
     "elapsed": 8,
     "status": "ok",
     "timestamp": 1709213607466,
     "user": {
      "displayName": "Aoi Haru",
      "userId": "03918312885848797286"
     },
     "user_tz": -180
    },
    "id": "pvB3qGMSV8F3"
   },
   "outputs": [],
   "source": [
    "#define losses and optimizer\n",
    "batch_per_epoch = len(train)\n",
    "lr_decay = (1./.75 - 1)/batch_per_epoch"
   ]
  },
  {
   "cell_type": "code",
   "execution_count": 18,
   "metadata": {
    "executionInfo": {
     "elapsed": 7,
     "status": "ok",
     "timestamp": 1709213607466,
     "user": {
      "displayName": "Aoi Haru",
      "userId": "03918312885848797286"
     },
     "user_tz": -180
    },
    "id": "0_IxLnZ7W2dn"
   },
   "outputs": [],
   "source": [
    "opt = tf.keras.optimizers.legacy.Adam(learning_rate=0.0001,decay=lr_decay)"
   ]
  },
  {
   "cell_type": "code",
   "execution_count": 19,
   "metadata": {
    "executionInfo": {
     "elapsed": 8,
     "status": "ok",
     "timestamp": 1709213607467,
     "user": {
      "displayName": "Aoi Haru",
      "userId": "03918312885848797286"
     },
     "user_tz": -180
    },
    "id": "1PSR6Nk-XQfn"
   },
   "outputs": [],
   "source": [
    "#object detection loss function YOLO\n",
    "\n",
    "def localization_loss(y_true,yhat):\n",
    "  delta_coord = tf.reduce_sum(tf.square(y_true[:,:2] - yhat[:,:2]))\n",
    "\n",
    "  h_true = y_true[:,3] - y_true[:,1]\n",
    "  w_true = y_true[:,2] - y_true[:,0]\n",
    "\n",
    "  h_pred = yhat[:,3] - yhat[:,1]\n",
    "  w_pred = yhat[:,2] - yhat[:,0]\n",
    "\n",
    "  delta_size = tf.reduce_sum(tf.square(w_true - w_pred) + tf.square(h_true-h_pred))\n",
    "\n",
    "  return delta_coord + delta_size"
   ]
  },
  {
   "cell_type": "code",
   "execution_count": 20,
   "metadata": {
    "executionInfo": {
     "elapsed": 8,
     "status": "ok",
     "timestamp": 1709213607467,
     "user": {
      "displayName": "Aoi Haru",
      "userId": "03918312885848797286"
     },
     "user_tz": -180
    },
    "id": "7skw8cF_atfR"
   },
   "outputs": [],
   "source": [
    "clsfn_loss = tf.keras.losses.BinaryCrossentropy()\n",
    "rgrsn_loss = localization_loss"
   ]
  },
  {
   "cell_type": "code",
   "execution_count": 21,
   "metadata": {
    "executionInfo": {
     "elapsed": 7,
     "status": "ok",
     "timestamp": 1709213607467,
     "user": {
      "displayName": "Aoi Haru",
      "userId": "03918312885848797286"
     },
     "user_tz": -180
    },
    "id": "SCloZ8VlQy_S"
   },
   "outputs": [],
   "source": [
    "class FaceDetector(Model):\n",
    "  def __init__(self,tracker,**kwargs):\n",
    "    super().__init__(**kwargs)\n",
    "    self.model = tracker\n",
    "\n",
    "  def compile(self, opt, classloss, locloss, **kwargs):\n",
    "    super().compile(**kwargs)\n",
    "    self.opt = opt\n",
    "    self.closs = classloss\n",
    "    self.lloss = locloss\n",
    "\n",
    "  def train_step(self, batch, **kwargs):\n",
    "    x,y = batch\n",
    "\n",
    "    with tf.GradientTape() as tape:\n",
    "      classes, coords = self.model(x,training=True)\n",
    "\n",
    "      batch_closs = self.closs(y[0],classes)\n",
    "      batch_lloss = self.lloss(tf.cast(y[1],tf.float32),coords)\n",
    "\n",
    "      batch_loss = batch_lloss + batch_closs*0.5\n",
    "\n",
    "      grad = tape.gradient(batch_loss, self.model.trainable_variables)\n",
    "\n",
    "    opt.apply_gradients(zip(grad,self.model.trainable_variables))\n",
    "\n",
    "    return {\"total_loss\": batch_loss, \"class_loss\": batch_closs, \"regress_loss\": batch_lloss}\n",
    "\n",
    "  def test_step(self, batch, **kwargs):\n",
    "    x,y = batch\n",
    "\n",
    "    classes, coords = self.model(x,training=True)\n",
    "\n",
    "    batch_closs = self.closs(y[0],classes)\n",
    "    batch_lloss = self.lloss(tf.cast(y[1],tf.float32),coords)\n",
    "\n",
    "    batch_loss = batch_lloss + batch_closs*0.5\n",
    "\n",
    "    return {\"total_loss\": batch_loss, \"class_loss\": batch_closs, \"regress_loss\": batch_lloss}\n",
    "\n",
    "  def call(self, **kwargs):\n",
    "    return self.model(x,**kwargs)"
   ]
  },
  {
   "cell_type": "code",
   "execution_count": 22,
   "metadata": {
    "executionInfo": {
     "elapsed": 7,
     "status": "ok",
     "timestamp": 1709213607467,
     "user": {
      "displayName": "Aoi Haru",
      "userId": "03918312885848797286"
     },
     "user_tz": -180
    },
    "id": "sAN72W6NZXT8"
   },
   "outputs": [],
   "source": [
    "model = FaceDetector(face_tracker)"
   ]
  },
  {
   "cell_type": "code",
   "execution_count": 23,
   "metadata": {
    "executionInfo": {
     "elapsed": 7,
     "status": "ok",
     "timestamp": 1709213607467,
     "user": {
      "displayName": "Aoi Haru",
      "userId": "03918312885848797286"
     },
     "user_tz": -180
    },
    "id": "CQsjlMF5ZnD9"
   },
   "outputs": [],
   "source": [
    "model.compile(opt,clsfn_loss,rgrsn_loss)"
   ]
  },
  {
   "cell_type": "code",
   "execution_count": 24,
   "metadata": {
    "colab": {
     "base_uri": "https://localhost:8080/"
    },
    "id": "CUE7_a2H10ck",
    "outputId": "8bd21f03-bf04-400f-e0e8-19c521368fe7"
   },
   "outputs": [
    {
     "name": "stdout",
     "output_type": "stream",
     "text": [
      "Epoch 1/20\n",
      "57/57 [==============================] - 50s 521ms/step - total_loss: 6.7960 - class_loss: 0.3358 - regress_loss: 6.6281 - val_total_loss: 0.2890 - val_class_loss: 0.1909 - val_regress_loss: 0.1935\n",
      "Epoch 2/20\n",
      "57/57 [==============================] - 24s 399ms/step - total_loss: 1.6302 - class_loss: 0.1028 - regress_loss: 1.5788 - val_total_loss: 1.1746 - val_class_loss: 0.7791 - val_regress_loss: 0.7851\n",
      "Epoch 3/20\n",
      "57/57 [==============================] - 24s 405ms/step - total_loss: 0.8693 - class_loss: 0.0473 - regress_loss: 0.8456 - val_total_loss: 0.2466 - val_class_loss: 0.1272 - val_regress_loss: 0.1830\n",
      "Epoch 4/20\n",
      "57/57 [==============================] - 25s 422ms/step - total_loss: 0.5313 - class_loss: 0.0234 - regress_loss: 0.5196 - val_total_loss: 2.7426 - val_class_loss: 0.9351 - val_regress_loss: 2.2750\n",
      "Epoch 5/20\n",
      "57/57 [==============================] - 25s 420ms/step - total_loss: 0.4095 - class_loss: 0.0165 - regress_loss: 0.4013 - val_total_loss: 0.2996 - val_class_loss: 0.1411 - val_regress_loss: 0.2290\n",
      "Epoch 6/20\n",
      "57/57 [==============================] - 24s 397ms/step - total_loss: 0.3241 - class_loss: 0.0131 - regress_loss: 0.3176 - val_total_loss: 0.9917 - val_class_loss: 0.9835 - val_regress_loss: 0.4999\n",
      "Epoch 7/20\n",
      "57/57 [==============================] - 24s 401ms/step - total_loss: 0.2925 - class_loss: 0.0111 - regress_loss: 0.2870 - val_total_loss: 0.0691 - val_class_loss: 0.0306 - val_regress_loss: 0.0538\n",
      "Epoch 8/20\n",
      "57/57 [==============================] - 23s 389ms/step - total_loss: 0.2697 - class_loss: 0.0080 - regress_loss: 0.2657 - val_total_loss: 0.6747 - val_class_loss: 0.6501 - val_regress_loss: 0.3496\n",
      "Epoch 9/20\n",
      "57/57 [==============================] - 23s 383ms/step - total_loss: 0.1745 - class_loss: 0.0053 - regress_loss: 0.1718 - val_total_loss: 0.0301 - val_class_loss: 0.0141 - val_regress_loss: 0.0230\n",
      "Epoch 10/20\n",
      "57/57 [==============================] - 24s 405ms/step - total_loss: 0.1272 - class_loss: 0.0034 - regress_loss: 0.1254 - val_total_loss: 0.0796 - val_class_loss: 0.0077 - val_regress_loss: 0.0757\n",
      "Epoch 11/20\n",
      "57/57 [==============================] - 24s 399ms/step - total_loss: 0.1354 - class_loss: 0.0034 - regress_loss: 0.1337 - val_total_loss: 1.1193 - val_class_loss: 1.6091 - val_regress_loss: 0.3147\n",
      "Epoch 12/20\n",
      "57/57 [==============================] - 23s 384ms/step - total_loss: 0.1282 - class_loss: 0.0032 - regress_loss: 0.1266 - val_total_loss: 0.0550 - val_class_loss: 7.0322e-04 - val_regress_loss: 0.0546\n",
      "Epoch 13/20\n",
      "57/57 [==============================] - 23s 391ms/step - total_loss: 0.0914 - class_loss: 0.0020 - regress_loss: 0.0904 - val_total_loss: 0.2262 - val_class_loss: 0.2511 - val_regress_loss: 0.1006\n",
      "Epoch 14/20\n",
      "57/57 [==============================] - 23s 390ms/step - total_loss: 0.0640 - class_loss: 0.0013 - regress_loss: 0.0634 - val_total_loss: 0.9156 - val_class_loss: 1.0484 - val_regress_loss: 0.3914\n",
      "Epoch 15/20\n",
      "57/57 [==============================] - 24s 404ms/step - total_loss: 0.0869 - class_loss: 0.0018 - regress_loss: 0.0860 - val_total_loss: 0.1109 - val_class_loss: 0.0722 - val_regress_loss: 0.0748\n",
      "Epoch 16/20\n",
      "57/57 [==============================] - 26s 428ms/step - total_loss: 0.0593 - class_loss: 0.0010 - regress_loss: 0.0588 - val_total_loss: 0.0578 - val_class_loss: 1.7918e-04 - val_regress_loss: 0.0577\n",
      "Epoch 17/20\n",
      "57/57 [==============================] - 24s 398ms/step - total_loss: 0.0360 - class_loss: 4.8671e-04 - regress_loss: 0.0358 - val_total_loss: 1.1330 - val_class_loss: 0.0713 - val_regress_loss: 1.0974\n",
      "Epoch 18/20\n",
      "57/57 [==============================] - 24s 407ms/step - total_loss: 0.0304 - class_loss: 4.3941e-04 - regress_loss: 0.0302 - val_total_loss: 2.2401 - val_class_loss: 0.9113 - val_regress_loss: 1.7844\n",
      "Epoch 19/20\n",
      "57/57 [==============================] - 24s 404ms/step - total_loss: 0.0277 - class_loss: 3.2609e-04 - regress_loss: 0.0276 - val_total_loss: 1.3907 - val_class_loss: 1.8453 - val_regress_loss: 0.4680\n",
      "Epoch 20/20\n",
      "57/57 [==============================] - 23s 385ms/step - total_loss: 0.0235 - class_loss: 2.6102e-04 - regress_loss: 0.0233 - val_total_loss: 0.1131 - val_class_loss: 0.0072 - val_regress_loss: 0.1094\n"
     ]
    }
   ],
   "source": [
    "hist = model.fit(train, epochs = 20, validation_data = val)"
   ]
  },
  {
   "cell_type": "code",
   "execution_count": 25,
   "metadata": {
    "id": "SoPdwewoN4yg"
   },
   "outputs": [
    {
     "name": "stdout",
     "output_type": "stream",
     "text": [
      "WARNING:tensorflow:Compiled the loaded model, but the compiled metrics have yet to be built. `model.compile_metrics` will be empty until you train or evaluate the model.\n"
     ]
    }
   ],
   "source": [
    "from tensorflow.keras.models import load_model\n",
    "face_tracker.save('face_det.h5')"
   ]
  },
  {
   "cell_type": "code",
   "execution_count": 26,
   "metadata": {
    "id": "V9ltstESfWCL"
   },
   "outputs": [
    {
     "data": {
      "image/png": "[encoded data removed]",
      "text/plain": [
       "<Figure size 2000x500 with 3 Axes>"
      ]
     },
     "metadata": {},
     "output_type": "display_data"
    }
   ],
   "source": [
    "import matplotlib.pyplot as plt\n",
    "fig, ax = plt.subplots(3, figsize=(20,5))\n",
    "\n",
    "ax[0].plot(hist.history['total_loss'],label='train loss')\n",
    "ax[0].plot(hist.history['val_total_loss'],label='validation loss')\n",
    "ax[0].legend()\n",
    "\n",
    "ax[1].plot(hist.history['class_loss'],label='train loss')\n",
    "ax[1].plot(hist.history['val_class_loss'],label='validation loss')\n",
    "ax[1].legend()\n",
    "\n",
    "ax[2].plot(hist.history['regress_loss'],label='train loss')\n",
    "ax[2].plot(hist.history['val_regress_loss'],label='validation loss')\n",
    "ax[2].legend()\n",
    "\n",
    "plt.show()"
   ]
  }
 ],
 "metadata": {
  "accelerator": "GPU",
  "colab": {
   "gpuType": "V100",
   "provenance": []
  },
  "kernelspec": {
   "display_name": "facedet",
   "language": "python",
   "name": "facedet"
  },
  "language_info": {
   "codemirror_mode": {
    "name": "ipython",
    "version": 3
   },
   "file_extension": ".py",
   "mimetype": "text/x-python",
   "name": "python",
   "nbconvert_exporter": "python",
   "pygments_lexer": "ipython3",
   "version": "3.11.5"
  }
 },
 "nbformat": 4,
 "nbformat_minor": 4
}
